{
  "nbformat": 4,
  "nbformat_minor": 0,
  "metadata": {
    "colab": {
      "provenance": [],
      "authorship_tag": "ABX9TyMFajmcJNXhVU4LcTv0E7y1",
      "include_colab_link": true
    },
    "kernelspec": {
      "name": "python3",
      "display_name": "Python 3"
    },
    "language_info": {
      "name": "python"
    }
  },
  "cells": [
    {
      "cell_type": "markdown",
      "metadata": {
        "id": "view-in-github",
        "colab_type": "text"
      },
      "source": [
        "<a href=\"https://colab.research.google.com/github/Layers5/Python-Notebook/blob/main/PythonWk_2b.ipynb\" target=\"_parent\"><img src=\"https://colab.research.google.com/assets/colab-badge.svg\" alt=\"Open In Colab\"/></a>"
      ]
    },
    {
      "cell_type": "markdown",
      "source": [
        "#Python Notebook\n",
        "\n",
        "##Week 2b\n",
        "\n",
        "###Functions\n",
        "\n",
        "```\n",
        "while: repeatedly executes an indented block of code until the loop body shows false\n",
        "\n",
        "random.randint(_,_): provides a new random number in between the min and max- given inside the paranthases\n",
        "\n",
        "reversed(): recerses the order of the elements\n",
        "\n",
        "range(a, b, c): generates a sequence of integers between a starting integer that is included in the range(a), an ending integer (b-1) that is not included in the range, and an integer step value (c); if you want to count down from b to a, you make c = -1\n",
        "\n",
        "\n",
        "```\n",
        "\n",
        "\n",
        "###Vocab\n",
        "\n",
        "- *sentinel value*: a value that when evaluated by the loop expression causes th eloop to terminate\n",
        "\n",
        "- *infinite value*: a loop that will always execute because the loop's expression is always true\n",
        "\n",
        "- *docstring*: A multi-line string literal deliminted at the beginning and end by triple quotes\n",
        "\n",
        "- *loop variable*: a variable to count the number of iterations\n",
        "\n",
        "```\n",
        "#Iterating N times using a loop var\n",
        "i = 1\n",
        "while i <= N:\n",
        "  #loop body statements go here\n",
        "  i = i +1 / i += 1\n",
        "\n",
        "#Iterating to count down\n",
        "i = man_num\n",
        "while i >= 1:\n",
        "  #loop body statements go here\n",
        "  i = i-1\n",
        "\n",
        "```\n",
        "\n",
        "- *for loop*: loops over each statement in a container one at a time, assigning a variable with the next element that can then be used in the loop body\n",
        "\n",
        "```\n",
        "#to loop for a certain number of times:\n",
        "for i in range(0, 5):\n",
        "  print(i)\n",
        "\n",
        "```\n",
        "\n"
      ],
      "metadata": {
        "id": "IJpxrFyPP9xg"
      }
    },
    {
      "cell_type": "code",
      "source": [
        "contact_emails = {\n",
        "    'Sue Reyn' : 's.reyn@email.com',\n",
        "    'Mike Filt': 'mike.filt@bmail.com',\n",
        "    'Nate Arty': 'narty042@nmail.com'\n",
        "}\n",
        "\n",
        "new_contact = input()\n",
        "new_email = input()\n",
        "contact_emails[new_contact] = new_email\n",
        "\n",
        "for contact in contact_emails:\n",
        "    print (f'{contact_emails[contact]} is {contact}')"
      ],
      "metadata": {
        "colab": {
          "base_uri": "https://localhost:8080/"
        },
        "id": "sPB_rFutSRQM",
        "outputId": "6ea51add-d19b-421c-d948-f739dfd00804"
      },
      "execution_count": 2,
      "outputs": [
        {
          "output_type": "stream",
          "name": "stdout",
          "text": [
            "Loren Ayers\n",
            "layers5@jh.edu\n",
            "s.reyn@email.com is Sue Reyn\n",
            "mike.filt@bmail.com is Mike Filt\n",
            "narty042@nmail.com is Nate Arty\n",
            "layers5@jh.edu is Loren Ayers\n"
          ]
        }
      ]
    },
    {
      "cell_type": "markdown",
      "source": [
        "- *Nested loop*: is a loop that appears as part of the body of another loops and are commonly referred to as the *outer loop* and the *inner loop*\n",
        "\n",
        "- *break*: a statement that causes a loop to exit immediately\n",
        "\n",
        "- *continue*: a statement that causes a loop"
      ],
      "metadata": {
        "id": "lQprhBW-SUOL"
      }
    },
    {
      "cell_type": "code",
      "source": [
        "for i in range(6):\n",
        "  if i == 4:\n",
        "    break\n",
        "  print(i)"
      ],
      "metadata": {
        "colab": {
          "base_uri": "https://localhost:8080/"
        },
        "id": "24eCwxMGlf3y",
        "outputId": "52423c81-fefb-44c4-ebc7-7a69d7f69c20"
      },
      "execution_count": 3,
      "outputs": [
        {
          "output_type": "stream",
          "name": "stdout",
          "text": [
            "0\n",
            "1\n",
            "2\n",
            "3\n"
          ]
        }
      ]
    },
    {
      "cell_type": "markdown",
      "source": [
        "- *loops else*: executes if the loop completes normally as show below:"
      ],
      "metadata": {
        "id": "KB-gccGClRoq"
      }
    },
    {
      "cell_type": "code",
      "source": [
        "names = ['Janice', 'Clarice', 'Martin', 'Veronica', 'Jason']\n",
        "\n",
        "num = int(input('Enter number of names to print: '))\n",
        "for i in range(len(names)):\n",
        "    if i == num:\n",
        "        break\n",
        "    print(names[i], end= ' ')\n",
        "else:\n",
        "  print()\n",
        "  print('All names printed.')"
      ],
      "metadata": {
        "colab": {
          "base_uri": "https://localhost:8080/"
        },
        "id": "e9b7-gZTY9Yk",
        "outputId": "dba11b8a-01bf-447e-ba66-b74c0769c69d"
      },
      "execution_count": 4,
      "outputs": [
        {
          "output_type": "stream",
          "name": "stdout",
          "text": [
            "Enter number of names to print: 8\n",
            "Janice Clarice Martin Veronica Jason \n",
            "All names printed.\n"
          ]
        }
      ]
    },
    {
      "cell_type": "code",
      "source": [
        "str = 'Hello'\n",
        "\n",
        "#printing the elements of the list to read\n",
        "for i in str:\n",
        "  print(i, end='')\n",
        "\n",
        "print()\n",
        "#printing the elements on their own\n",
        "for i in str:\n",
        "  print(i)"
      ],
      "metadata": {
        "colab": {
          "base_uri": "https://localhost:8080/"
        },
        "id": "kpc1RPBdlzgT",
        "outputId": "5bc9c503-71a2-4c1b-d78d-adf6dfa124d8"
      },
      "execution_count": 11,
      "outputs": [
        {
          "output_type": "stream",
          "name": "stdout",
          "text": [
            "Hello\n",
            "H\n",
            "e\n",
            "l\n",
            "l\n",
            "o\n"
          ]
        }
      ]
    },
    {
      "cell_type": "markdown",
      "source": [
        "- *while loop*: if we know when exactly we want the loop to close, we will use this type of loop"
      ],
      "metadata": {
        "id": "VT5a8RHjmUHL"
      }
    },
    {
      "cell_type": "code",
      "source": [
        "i = 0\n",
        "sum = 0\n",
        "\n",
        "while i <4:\n",
        "  print(i)\n",
        "  sum += i\n",
        "  i += 1\n",
        "  print(sum)"
      ],
      "metadata": {
        "colab": {
          "base_uri": "https://localhost:8080/"
        },
        "id": "g7_pSgAZmbly",
        "outputId": "f4c73a57-341c-448e-df8d-cb6ba04d6acf"
      },
      "execution_count": 12,
      "outputs": [
        {
          "output_type": "stream",
          "name": "stdout",
          "text": [
            "0\n",
            "0\n",
            "1\n",
            "1\n",
            "2\n",
            "3\n",
            "3\n",
            "6\n"
          ]
        }
      ]
    },
    {
      "cell_type": "markdown",
      "source": [
        "###Example using random.randint function and while loop"
      ],
      "metadata": {
        "id": "PKIqWtd1j8Cp"
      }
    },
    {
      "cell_type": "code",
      "execution_count": 1,
      "metadata": {
        "colab": {
          "base_uri": "https://localhost:8080/"
        },
        "id": "WG1Q8lCxP6O0",
        "outputId": "1942bccc-10e9-4cfe-c8ff-db948e58a14b"
      },
      "outputs": [
        {
          "output_type": "stream",
          "name": "stdout",
          "text": [
            "I'll bid $5!\n",
            "Continue bidding?y\n",
            "I'll bid $10!\n",
            "Continue bidding?y\n",
            "I'll bid $11!\n",
            "Continue bidding?y\n",
            "I'll bid $16!\n",
            "Continue bidding?n\n",
            "\n",
            "Thank you for playing!\n"
          ]
        }
      ],
      "source": [
        "import random\n",
        "\n",
        "keep_bidding = '-'\n",
        "next_bid= 0\n",
        "\n",
        "while keep_bidding != 'n':\n",
        "  next_bid = next_bid + random.randint(1,10)\n",
        "  print(f'I\\'ll bid ${next_bid}!')\n",
        "  print('Continue bidding?', end='')\n",
        "  keep_bidding = input()\n",
        "\n",
        "print()\n",
        "if keep_bidding == 'n' :\n",
        "  print('Thank you for playing!')"
      ]
    },
    {
      "cell_type": "markdown",
      "source": [
        "##Making combinations with *Nested loops*"
      ],
      "metadata": {
        "id": "62Wx0nbGoUM3"
      }
    },
    {
      "cell_type": "code",
      "source": [
        "alph_str = ['a', 'b', 'c', 'd']\n",
        "num_str = ['1', '2', '3', '4']\n",
        "\n",
        "#matches every element i in alph_str with every element j in num_str\n",
        "for i in alph_str:\n",
        "  for j in num_str:\n",
        "    print(i,j)"
      ],
      "metadata": {
        "colab": {
          "base_uri": "https://localhost:8080/"
        },
        "id": "rVwAoTDInqg8",
        "outputId": "2f08a87e-c031-46e6-a736-b4db14b0353a"
      },
      "execution_count": 13,
      "outputs": [
        {
          "output_type": "stream",
          "name": "stdout",
          "text": [
            "a 1\n",
            "a 2\n",
            "a 3\n",
            "a 4\n",
            "b 1\n",
            "b 2\n",
            "b 3\n",
            "b 4\n",
            "c 1\n",
            "c 2\n",
            "c 3\n",
            "c 4\n",
            "d 1\n",
            "d 2\n",
            "d 3\n",
            "d 4\n"
          ]
        }
      ]
    },
    {
      "cell_type": "code",
      "source": [
        "import math\n",
        "\n",
        "x = float(input())\n",
        "n = int(input())\n",
        "tay_sum = 0\n",
        "\n",
        "act_cos = math.cos(x)\n",
        "print('cos(x) =', act_cos)\n",
        "\n",
        "for i in range(n):\n",
        "    ex_cos = math.factorial(i)\n",
        "    tay_sum = tay_sum + ex_cos\n",
        "\n",
        "percent_error = (abs(act_cos - tay_sum)/(act_cos)) * 100\n",
        "print('percent_error=', percent_error)"
      ],
      "metadata": {
        "colab": {
          "base_uri": "https://localhost:8080/"
        },
        "id": "ctByLQQfsMje",
        "outputId": "a9c14e8d-9ada-4bdc-a17f-daf92fe61964"
      },
      "execution_count": 17,
      "outputs": [
        {
          "output_type": "stream",
          "name": "stdout",
          "text": [
            "1.5\n",
            "4\n",
            "cos(x) = 0.0707372016677029\n",
            "percent_error= 14036.832902969905\n"
          ]
        }
      ]
    },
    {
      "cell_type": "code",
      "source": [
        "import math\n",
        "n = 4\n",
        "for i in range(n):\n",
        "  fact = math.factorial(i)\n",
        "  print(fact)"
      ],
      "metadata": {
        "colab": {
          "base_uri": "https://localhost:8080/"
        },
        "id": "4rNhPE7tsv4r",
        "outputId": "9e9d5a97-29d1-4ed2-bd63-549381c71008"
      },
      "execution_count": 22,
      "outputs": [
        {
          "output_type": "stream",
          "name": "stdout",
          "text": [
            "1\n",
            "1\n",
            "2\n",
            "6\n"
          ]
        }
      ]
    }
  ]
}