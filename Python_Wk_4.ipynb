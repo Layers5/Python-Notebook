{
  "nbformat": 4,
  "nbformat_minor": 0,
  "metadata": {
    "colab": {
      "provenance": [],
      "authorship_tag": "ABX9TyNRyM2Jy3H6JQrlHjqNW1nw",
      "include_colab_link": true
    },
    "kernelspec": {
      "name": "python3",
      "display_name": "Python 3"
    },
    "language_info": {
      "name": "python"
    }
  },
  "cells": [
    {
      "cell_type": "markdown",
      "metadata": {
        "id": "view-in-github",
        "colab_type": "text"
      },
      "source": [
        "<a href=\"https://colab.research.google.com/github/Layers5/Python-Notebook/blob/main/Python_Wk_4.ipynb\" target=\"_parent\"><img src=\"https://colab.research.google.com/assets/colab-badge.svg\" alt=\"Open In Colab\"/></a>"
      ]
    },
    {
      "cell_type": "markdown",
      "source": [
        "#Python Notebook\n",
        "##Python Week 3: Functions & Modules\n",
        "\n",
        "###Functions\n",
        "```\n",
        "locals()/globals(): can be used to examine the names in the current local/global namespace\n",
        "\n",
        "```"
      ],
      "metadata": {
        "id": "b6-TXtnQSp_U"
      }
    },
    {
      "cell_type": "markdown",
      "source": [
        "###Vocab\n",
        "- *bytecode*: a part of the value of a function object that represents the statements to be executed by the function\n",
        "  - like a low level program\n",
        "- *scope*: the area of code where a name is visible\n",
        "- *scope resolution*: the process of searching for a name in any namespace\n",
        "- *local variables*: variables that are defined inside of a function\n",
        "- *global variables*: variables that are defined outside of a function\n",
        "- *global*: a type of statement that can be made in order to change the value of a global variable inside of a function\n",
        "  - the first one below shows the normal function, and the one below that shows the global statement modifying the global variable"
      ],
      "metadata": {
        "id": "rvzJTp4hSqEO"
      }
    },
    {
      "cell_type": "code",
      "source": [
        "employee_name = 'N/A'\n",
        "\n",
        "def get_name():\n",
        "\n",
        "    name = input('Enter employee name:')\n",
        "    employee_name = name\n",
        "\n",
        "get_name()\n",
        "print(f'Employee name: {employee_name}')"
      ],
      "metadata": {
        "colab": {
          "base_uri": "https://localhost:8080/"
        },
        "id": "bABZoKo0QBHz",
        "outputId": "0d199eaa-f2d8-4c64-b622-f246c0f6ec25"
      },
      "execution_count": null,
      "outputs": [
        {
          "output_type": "stream",
          "name": "stdout",
          "text": [
            "Enter employee name:Romeo Montague\n",
            "Employee name: N/A\n"
          ]
        }
      ]
    },
    {
      "cell_type": "code",
      "source": [
        "employee_name = 'N/A'\n",
        "\n",
        "def get_name():\n",
        "    global employee_name\n",
        "    name = input('Enter employee name:')\n",
        "    employee_name = name\n",
        "\n",
        "get_name()\n",
        "print(f'Employee name: {employee_name}')"
      ],
      "metadata": {
        "colab": {
          "base_uri": "https://localhost:8080/"
        },
        "id": "1ENpvRjjSgN8",
        "outputId": "8fce55f5-8224-4712-bef2-ed13dd934449"
      },
      "execution_count": null,
      "outputs": [
        {
          "output_type": "stream",
          "name": "stdout",
          "text": [
            "Enter employee name:Juliet Capulet\n",
            "Employee name: Juliet Capulet\n"
          ]
        }
      ]
    },
    {
      "cell_type": "markdown",
      "source": [
        "- *namespace*: maps names to objects\n",
        "- *script*: a file in which the programmer writed Python code\n",
        "- *module*: A file containing Python code that can be imported and used by scripts, other modules, or the interactive interpreter\n",
        "- *dependency*: occurs when a module is required by another program\n",
        "- *sys.modules*: a dictionary of the loaded modules\n",
        "- *module object*: a namespace that contains definitions from the module\n",
        "- *built-in module*: a pre-installed module in Python\n",
        "- *sys.path*: a built-in Python variable located in the sys module that has a list full of directories containing modules\n",
        "- *environment variable*: a variable that is stored by the computer's operating system and can be accessed by every program running the computer"
      ],
      "metadata": {
        "id": "o3EITCgiSgey"
      }
    },
    {
      "cell_type": "markdown",
      "source": [
        "###Things to know\n",
        "- a function has a type, identity and value\n",
        "- there are different kinds of errors that cab arise from composing functions\n",
        "  - *Copy-paste errors*, which occur when you copy and paste code among\n",
        "  functions but not complete all necessary modifications to the pasted code\n",
        "  - *Return errors*, which occurs if you return the wrong variable\n",
        "\n",
        "  - if you want to import only a certain function from a module you can:\n",
        "\n",
        "  > Run: from module_name import function_name\n",
        "\n",
        "  - If __name__ == \"__main__\": is to help differentiate imported modules from the scripts, where __name__ is the name of the function being defined under the if branch\n",
        "\n",
        "  - you can have multiple outputs from a function definition by:\n",
        "\n",
        "  ```\n",
        "def name(x,y)\n",
        "  return a,b,c\n",
        "  ```\n",
        "\n",
        "- if a function has multiple outputs, you can call the outputs as a list by:\n",
        "\n",
        "```\n",
        "def name(x,y):\n",
        "  return [a,b,c]\n",
        "```\n",
        "\n",
        "- if you want to use the outcomes of a function in another function definition, you must use it as an input such as:\n",
        "\n",
        "```\n",
        "def f(a,b)\n",
        "  return a+b\n",
        "\n",
        "def my_fxn(x, f(a,b)):\n",
        "  c = f(a,b) + x\n",
        "  return c\n",
        "```"
      ],
      "metadata": {
        "id": "dMs0JstZQBYm"
      }
    },
    {
      "cell_type": "markdown",
      "source": [
        "###Example code"
      ],
      "metadata": {
        "id": "bU3iOpf7E55d"
      }
    },
    {
      "cell_type": "code",
      "source": [
        "#the lambda function\n",
        "\n",
        "def custom_round(number, round_func):\n",
        "    \"\"\"\n",
        "    Round a number using a custom rounding function.\n",
        "\n",
        "    Parameters\n",
        "    ----------\n",
        "    number : float\n",
        "        The number to be rounded.\n",
        "    round_func : function\n",
        "        A rounding function that takes a float as input and returns the rounded value.\n",
        "\n",
        "    Returns\n",
        "    -------\n",
        "    float\n",
        "        The rounded value of the input number.\n",
        "\n",
        "    \"\"\"\n",
        "    return round_func(number)\n",
        "\n",
        "rounded_up = custom_round(7.8, lambda x: int(x) + 1)  # Round up to the nearest integer\n",
        "rounded_down = custom_round(7.8, lambda x: int(x))      # Round down to the nearest integer\n",
        "\n",
        "print(rounded_up)   # Result: 8.0\n",
        "print(rounded_down) # Result: 7.0"
      ],
      "metadata": {
        "colab": {
          "base_uri": "https://localhost:8080/"
        },
        "id": "o_1IZtI_E9yn",
        "outputId": "58d81120-e2c1-4a7c-e82d-81843fb68c86"
      },
      "execution_count": 1,
      "outputs": [
        {
          "output_type": "stream",
          "name": "stdout",
          "text": [
            "8\n",
            "7\n"
          ]
        }
      ]
    }
  ]
}