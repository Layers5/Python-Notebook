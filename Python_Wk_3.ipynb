{
  "nbformat": 4,
  "nbformat_minor": 0,
  "metadata": {
    "colab": {
      "provenance": [],
      "authorship_tag": "ABX9TyPQqyqV1xBuc/qrfkz1zcJN",
      "include_colab_link": true
    },
    "kernelspec": {
      "name": "python3",
      "display_name": "Python 3"
    },
    "language_info": {
      "name": "python"
    }
  },
  "cells": [
    {
      "cell_type": "markdown",
      "metadata": {
        "id": "view-in-github",
        "colab_type": "text"
      },
      "source": [
        "<a href=\"https://colab.research.google.com/github/Layers5/Python-Notebook/blob/main/Python_Wk_3.ipynb\" target=\"_parent\"><img src=\"https://colab.research.google.com/assets/colab-badge.svg\" alt=\"Open In Colab\"/></a>"
      ]
    },
    {
      "cell_type": "markdown",
      "source": [
        "#Python Notebook\n",
        "##Python Week 3: Loops\n",
        "\n",
        "###Functions\n",
        "\n",
        "```\n",
        "def function_name: to create new functions ; must use the return function_name which gives what value shall be returned\n",
        "add(a, b): returns the added value of integers/strings a and b\n",
        "\n",
        "```\n"
      ],
      "metadata": {
        "id": "3VbEvgiqxHBW"
      }
    },
    {
      "cell_type": "code",
      "execution_count": null,
      "metadata": {
        "colab": {
          "base_uri": "https://localhost:8080/"
        },
        "id": "Q2u7EQsfwonV",
        "outputId": "9bc7d878-a6c9-4e8e-b63c-b0a2d55c6f43"
      },
      "outputs": [
        {
          "output_type": "stream",
          "name": "stdout",
          "text": [
            "7 is 49\n"
          ]
        }
      ],
      "source": [
        "def compute_square(num_to_square):\n",
        "  return num_to_square * num_to_square\n",
        "\n",
        "num_squared = compute_square(7)\n",
        "\n",
        "print(f'7 is {num_squared}')"
      ]
    },
    {
      "cell_type": "markdown",
      "source": [
        "```\n",
        "\n",
        "```"
      ],
      "metadata": {
        "id": "Oh6Z34X71EcG"
      }
    },
    {
      "cell_type": "markdown",
      "source": [
        "###Vocab\n",
        "- *function definition*: consists of the function's name and a block of statements\n",
        "\n",
        "```\n",
        "def function_name(input):\n",
        "  #statement body\n",
        "  return output_name\n",
        "```\n",
        "\n",
        "- *function call*: is an invocation of the function's name, causing the function's statement to execute\n",
        "\n",
        "- *None*: a special keyword that indicates no value which occurs when a function has no return statements or a return statement with no following expression\n",
        "\n",
        "- *parameter*: a function input specified in a function definition\n",
        "\n",
        ">i.e. in get_letter_grade(num_grade), num_grade is the parameter\n",
        "\n",
        "- *argument*: a value provided to a function's parameter during a function call\n",
        "\n",
        ">i.e. calc_pizza_area(12.0) or calc_pizza_area(16.0)\n",
        "\n",
        "- *hierarchical function calls*/*nested function calls*: in which their is a function nested inside of another function, and the output in the inside will become the input of the outside function\n",
        "\n",
        ">i.e. int(input()) is one that we know of being a *nested function call*\n",
        "\n",
        "- *function stubs*: function definitions whose statements haven't been written yet\n",
        "\n",
        "- *default value*: a value used in absence of an argument in the function call\n",
        "\n",
        ">below, the *default value* for pennies is '0'"
      ],
      "metadata": {
        "id": "eNODHKqs0N3U"
      }
    },
    {
      "cell_type": "code",
      "source": [
        "def number_of_pennies(dollars, pennies=0):\n",
        "    dol_to_pen = 100*dollars\n",
        "    tot_pen = dol_to_pen + pennies\n",
        "    return tot_pen\n",
        "\n",
        "print(number_of_pennies(int(input()), int(input()))) # Both dollars and pennies\n",
        "print(number_of_pennies(int(input())))               # Dollars only\n"
      ],
      "metadata": {
        "colab": {
          "base_uri": "https://localhost:8080/"
        },
        "id": "acbxwD68uGip",
        "outputId": "d3a56a87-3e32-410f-fbc8-4cc01d408e7f"
      },
      "execution_count": null,
      "outputs": [
        {
          "output_type": "stream",
          "name": "stdout",
          "text": [
            "5 \n",
            "6\n",
            "506\n",
            "4\n",
            "400\n"
          ]
        }
      ]
    },
    {
      "cell_type": "code",
      "source": [
        "def get_minutes_as_hours(orig_minutes):\n",
        "  hours_to_min = orig_minutes/60\n",
        "  return hours_to_min\n",
        "\n",
        "minutes = float(input())\n",
        "print(f'{get_minutes_as_hours(minutes)} hours')"
      ],
      "metadata": {
        "colab": {
          "base_uri": "https://localhost:8080/"
        },
        "id": "juTsySGu8UBr",
        "outputId": "05cde10c-e8f8-460c-d5ee-c2b59182b8ad"
      },
      "execution_count": null,
      "outputs": [
        {
          "output_type": "stream",
          "name": "stdout",
          "text": [
            "210\n",
            "3.5 hours\n"
          ]
        }
      ]
    },
    {
      "cell_type": "code",
      "source": [
        "def calc_total_inches(num_feet, num_inches):\n",
        "    ft_to_in = num_feet*12\n",
        "    tot_inch = num_inches + ft_to_in\n",
        "    return tot_inch\n",
        "\n",
        "\n",
        "feet = int(input())\n",
        "inches = int(input())\n",
        "print(f'Total inches: {calc_total_inches(feet, inches)}')"
      ],
      "metadata": {
        "colab": {
          "base_uri": "https://localhost:8080/"
        },
        "id": "vYLs-JUL-QuG",
        "outputId": "12e2cd5b-6333-460b-fb7f-10aac1ed9a42"
      },
      "execution_count": null,
      "outputs": [
        {
          "output_type": "stream",
          "name": "stdout",
          "text": [
            "5\n",
            "8\n",
            "Total inches: 68\n"
          ]
        }
      ]
    },
    {
      "cell_type": "markdown",
      "source": [
        "- *void function*: a function with no return statement that returns *None*\n",
        "\n",
        "- *modular development*: the process of dividing a program into separate modules that can be developed and tested separately and integrated into a single program\n",
        "\n",
        "```\n",
        "#main pgm w redundant code:\n",
        "pi_val = math.pi\n",
        "\n",
        "pizza_diameter_1 = 12.0\n",
        "circle_radius_1 = pizza_diameter_1 / 2.0\n",
        "circle_area_1 = pi_val * circle_radius_1 *\n",
        "              circle_radius_1\n",
        "\n",
        "pizza_diameter_2 = 14.0\n",
        "circle_radius_2 = pizza_diameter_2 / 2.0\n",
        "circle_area_2 = pi_val * circle_radius_2 *\n",
        "               circle_radius_2\n",
        "\n",
        "total_pizza_area = circle_area_1 +\n",
        "                 circle_area_2\n",
        "\n",
        "print('A 12 and 14 inch pizza has', end=' ')\n",
        "print(f'{total_pizza_area:.2f}',\n",
        "  end=' ')\n",
        "print('square inches combined.')\n",
        "```\n",
        "\n",
        "```\n",
        "#main pgm w a def fxn avoiding redundant code\n",
        "def calc_circle_area(circle_diameter):\n",
        "  pi_val = math.pi\n",
        "\n",
        "circle_radius = circle_diameter / 2.0\n",
        "circle_area = pi_val * circle_radius *\n",
        "           circle_radius\n",
        "           return circle_area\n",
        "\n",
        "pizza_diameter_1 = 12.0\n",
        "pizza_diameter_2 = 14.0\n",
        "\n",
        "total_pizza_area =\n",
        "  calc_circle_area(pizza_diameter_1) +\n",
        "  calc_circle_area(pizza_diameter_2)\n",
        "\n",
        "print('A 12 and 14 inch pizza has', end=' ')\n",
        "print(f'{total_pizza_area:.2f}', end=' ')\n",
        "print('square inches combined.')\n",
        "```\n",
        "\n"
      ],
      "metadata": {
        "id": "PE50vSDnAEex"
      }
    },
    {
      "cell_type": "markdown",
      "source": [
        "###Things to know\n",
        "\n",
        "- you can create *functions* in order to reduce creating a group of predefined statements for repeated operations\n",
        "\n",
        "- you can call a print function multiple times"
      ],
      "metadata": {
        "id": "lm_5cbaz0OFM"
      }
    },
    {
      "cell_type": "code",
      "source": [
        "def print_price(price):\n",
        "    print(f'Price: ${price}')\n",
        "\n",
        "product_price = 24\n",
        "tax_amount = 3\n",
        "print_price(product_price + tax_amount)"
      ],
      "metadata": {
        "colab": {
          "base_uri": "https://localhost:8080/"
        },
        "id": "uCRrmtBXCEtc",
        "outputId": "ce0c234b-33aa-41ab-ea87-1ada5855e8b4"
      },
      "execution_count": null,
      "outputs": [
        {
          "output_type": "stream",
          "name": "stdout",
          "text": [
            "Price: $27\n"
          ]
        }
      ]
    },
    {
      "cell_type": "markdown",
      "source": [
        "- positioning of the inputs when calling a function is very important\n",
        "- For a *for loop*, you generally iterate over a list or range that you already have till the end ofthe list\n",
        "- Fir a *while Loop*, you just iterate until the statement is false- and is more so for when you don't have a nice list to iterate over.\n",
        "> for a *while loop*, you have to have a iterated variable i that increases as you go through each loop"
      ],
      "metadata": {
        "id": "3VEpyXfbAiZH"
      }
    },
    {
      "cell_type": "markdown",
      "source": [
        "###Example codes"
      ],
      "metadata": {
        "id": "94TWE2dyCCpc"
      }
    },
    {
      "cell_type": "code",
      "source": [
        "#Function with branch\n",
        "\n",
        "def print_popcorn_time(bag_ounces):\n",
        "    if bag_ounces < 3:\n",
        "        print(\"Too small\")\n",
        "    elif bag_ounces >10:\n",
        "        print(\"Too large\")\n",
        "    else:\n",
        "        print(f'{bag_ounces*6} seconds')\n",
        "\n",
        "\n",
        "user_ounces = int(input())\n",
        "print_popcorn_time(user_ounces)"
      ],
      "metadata": {
        "colab": {
          "base_uri": "https://localhost:8080/"
        },
        "id": "0JicPE9yQLto",
        "outputId": "6a392b49-3089-412f-c4ae-30d54c973e6d"
      },
      "execution_count": null,
      "outputs": [
        {
          "output_type": "stream",
          "name": "stdout",
          "text": [
            "7\n",
            "42 seconds\n"
          ]
        }
      ]
    }
  ]
}