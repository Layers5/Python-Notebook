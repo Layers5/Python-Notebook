{
  "nbformat": 4,
  "nbformat_minor": 0,
  "metadata": {
    "colab": {
      "provenance": [],
      "authorship_tag": "ABX9TyMkwPZwl0SN22AUso0Ua/dw",
      "include_colab_link": true
    },
    "kernelspec": {
      "name": "python3",
      "display_name": "Python 3"
    },
    "language_info": {
      "name": "python"
    }
  },
  "cells": [
    {
      "cell_type": "markdown",
      "metadata": {
        "id": "view-in-github",
        "colab_type": "text"
      },
      "source": [
        "<a href=\"https://colab.research.google.com/github/Layers5/Python-Notebook/blob/main/Python_Wk_11.ipynb\" target=\"_parent\"><img src=\"https://colab.research.google.com/assets/colab-badge.svg\" alt=\"Open In Colab\"/></a>"
      ]
    },
    {
      "cell_type": "markdown",
      "source": [
        "#Python Week 11: Handling & Files\n",
        "\n",
        "###**Functions**\n",
        "\n",
        "```\n",
        "open(): retrieves input from a file\n",
        "file.close(): closes a file\n",
        "file.read(): returns the file contents as a string, where inside the paranthases limits the number of bytes\n",
        "file.readlines(): returns a list of strings, where the first element is the contents of the first line, and the second element is the contents of the second line, and so on\n",
        "file.write(): writes a string argument to a file\n",
        "\n",
        "flush(): used to force the interpreter to flush the output buffer to disk\n",
        "\n",
        "```"
      ],
      "metadata": {
        "id": "2QIRA0nQCEef"
      }
    },
    {
      "cell_type": "markdown",
      "source": [
        "###**Vocab**\n",
        "\n",
        "- *Error checking code*: code that a programmer introduces to detect and handle errors that occur while the program executes\n",
        "- *exception handling constructs*: special constructs that handle exceptional circumstances (errors) during execution\n",
        "  - code that potentially may produce an exception is placed in a **try block**\n",
        "    - if the code in the try block causes an exception, then the code placed in a following **except block** is executed\n",
        "- *undandled exception*: occurs if there is no exception handler for an error type\n",
        "- *mode*: indicates how a file is opened, i.e.. whether or not writing to the file is allowed, etc.\n",
        "  - 'r' : opens the file for reading,\n",
        "  - 'w': open the file for writing. If the file does not exist, then the file is created. Contents of an existing file are overwritten.\n",
        "  - 'a': open the file for appending. If the file does not exist, then the file is created. Writes are added to the end of existing file contents.\n",
        "```\n",
        "#the mode is written as follows\n",
        "f = open('myfile.txt', 'a')\n",
        "```\n",
        "  - a plus ('+') can be added n order to specify an **update** mode\n",
        "- *with statement*: used to open a file, execute a block of statements, and automatically close the file when complete\n",
        "- *context manager*: manages the use of a resource by performing set-up and teardown operations\n",
        "- *comma-separated values file* (*csv file*): a simple text-based file format that usescommas to separate data items called *fields*\n",
        "- *csv module*: a python standard library that can be sued to helped read and write files in the csv format\n",
        "```\n",
        "import csv\n",
        "with open('myfile.csv', 'r') as myfile:\n",
        "    csv_reader = csv.reader(myfile)\n",
        "```"
      ],
      "metadata": {
        "id": "05ehLHPxC1JU"
      }
    },
    {
      "cell_type": "markdown",
      "source": [
        "###**Things to know**\n",
        "\n",
        "- multiple exception handlers can be added to a try block\n",
        "- Code that detects an error can execute a **raise** statement, which causes immediate exit from the try block and the execution of an exception handler."
      ],
      "metadata": {
        "id": "-In51jPPG-8b"
      }
    },
    {
      "cell_type": "code",
      "execution_count": null,
      "metadata": {
        "colab": {
          "base_uri": "https://localhost:8080/"
        },
        "id": "2NUOHTpdCBDt",
        "outputId": "5a94d99e-a36c-470e-f6b6-4668ede83037"
      },
      "outputs": [
        {
          "output_type": "stream",
          "name": "stdout",
          "text": [
            "Input 1:4\n",
            "8\n",
            "Input 2:B\n",
            "x\n",
            "e\n"
          ]
        }
      ],
      "source": [
        "try:\n",
        "    number1 = int(input(\"Input 1:\"))\n",
        "    print(number1 * 2)\n",
        "\n",
        "    number2 = int(input(\"Input 2:\"))\n",
        "    print(number2 * 2)\n",
        "except:\n",
        "    print('x')\n",
        "print('e')\n",
        "#4 B"
      ]
    },
    {
      "cell_type": "code",
      "source": [
        "# Read the input file name\n",
        "file_name = input()\n",
        "\n",
        "# Read the lower and upper bounds\n",
        "lower_bound = input()\n",
        "upper_bound = input()\n",
        "\n",
        "# Read the contents of the file\n",
        "with open(file_name, 'r') as file:\n",
        "    words = file.readlines()\n",
        "\n",
        "# Strip newline characters from the words\n",
        "words = [word.strip() for word in words]\n",
        "\n",
        "# Check if each word is within the specified range\n",
        "for word in words:\n",
        "    if lower_bound <= word <= upper_bound:\n",
        "        print(f'{word} - in range')\n",
        "    else:\n",
        "        print(f'{word} - not in range')"
      ],
      "metadata": {
        "id": "5ri1qhvrMxvs"
      },
      "execution_count": null,
      "outputs": []
    }
  ]
}