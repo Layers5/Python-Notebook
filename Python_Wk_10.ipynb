{
  "nbformat": 4,
  "nbformat_minor": 0,
  "metadata": {
    "colab": {
      "provenance": [],
      "authorship_tag": "ABX9TyOiBnE1jHFh9yfxWbi8ySg1",
      "include_colab_link": true
    },
    "kernelspec": {
      "name": "python3",
      "display_name": "Python 3"
    },
    "language_info": {
      "name": "python"
    }
  },
  "cells": [
    {
      "cell_type": "markdown",
      "metadata": {
        "id": "view-in-github",
        "colab_type": "text"
      },
      "source": [
        "<a href=\"https://colab.research.google.com/github/Layers5/Python-Notebook/blob/main/Python_Wk_10.ipynb\" target=\"_parent\"><img src=\"https://colab.research.google.com/assets/colab-badge.svg\" alt=\"Open In Colab\"/></a>"
      ]
    },
    {
      "cell_type": "markdown",
      "source": [
        "#Python Week 10: More on Classes\n",
        "\n",
        "###**Functions**\n",
        "\n",
        "```\n",
        "super().: you can use this function in a derived class in order to use the base class' arguments\n",
        "```"
      ],
      "metadata": {
        "id": "Qzh-q7d4t1wr"
      }
    },
    {
      "cell_type": "code",
      "source": [
        "class Course:\n",
        "    def __init__(self, number, title):\n",
        "        self.number = number\n",
        "        self.title = title\n",
        "\n",
        "    def print_info(self):\n",
        "        print(\"Course Information:\")\n",
        "        print(f\"   Course Number: {self.number}\")\n",
        "        print(f\"   Course Title: {self.title}\")\n",
        "\n",
        "class OfferedCourse(Course):\n",
        "    def __init__(self, number, title, instructor_name, location, class_time):\n",
        "        super().__init__(number, title)\n",
        "        self.instructor_name = instructor_name\n",
        "        self.location = location\n",
        "        self.class_time = class_time\n",
        "\n",
        "    def print_info(self):\n",
        "        super().print_info()\n",
        "        print(f\"   Instructor Name: {self.instructor_name}\")\n",
        "        print(f\"   Location: {self.location}\")\n",
        "        print(f\"   Class Time: {self.class_time}\")\n",
        "\n",
        "if __name__ == \"__main__\":\n",
        "    course_number = input()\n",
        "    course_title = input()\n",
        "\n",
        "    o_course_number = input()\n",
        "    o_course_title = input()\n",
        "    instructor_name = input()\n",
        "    location = input()\n",
        "    class_time = input()\n",
        "\n",
        "    my_course = Course(course_number, course_title)\n",
        "    my_course.print_info()\n",
        "\n",
        "    my_offered_course = OfferedCourse(o_course_number, o_course_title, instructor_name, location, class_time)\n",
        "    my_offered_course.print_info()\n"
      ],
      "metadata": {
        "colab": {
          "base_uri": "https://localhost:8080/"
        },
        "id": "h1VwmyTLuAHN",
        "outputId": "d63b259b-f8ed-4f11-fb53-63c511894506"
      },
      "execution_count": null,
      "outputs": [
        {
          "output_type": "stream",
          "name": "stdout",
          "text": [
            "ECE287\n",
            "Digital Systems Design\n",
            "ECE387\n",
            "Embedded Systems Design\n",
            "Mark Patterson\n",
            "Wilson Hall 231\n",
            "WF: 2-3:30 pm\n",
            "Course Information:\n",
            "   Course Number: ECE287\n",
            "   Course Title: Digital Systems Design\n",
            "Course Information:\n",
            "   Course Number: ECE387\n",
            "   Course Title: Embedded Systems Design\n",
            "   Instructor Name: Mark Patterson\n",
            "   Location: Wilson Hall 231\n",
            "   Class Time: WF: 2-3:30 pm\n"
          ]
        }
      ]
    },
    {
      "cell_type": "markdown",
      "source": [
        "###**Vocab**\n",
        "\n",
        "- *derived class*: refers to a class that inherits the class attributes of anohter class, which is called a *base class*\n",
        "  - *inheritance*: a concept in which a derived class inherits the attributes of the base class"
      ],
      "metadata": {
        "id": "CffS3bQBuARc"
      }
    },
    {
      "cell_type": "code",
      "source": [
        "class Item:\n",
        "    def __init__(self):\n",
        "        self.name = ''\n",
        "        self.quantity = 0\n",
        "\n",
        "    def set_name(self, nm):\n",
        "        self.name = nm\n",
        "\n",
        "    def set_quantity(self, qnty):\n",
        "        self.quantity = qnty\n",
        "\n",
        "    def display(self):\n",
        "        print(self.name, self.quantity)\n",
        "\n",
        "\n",
        "class Produce(Item):  # Derived from Item\n",
        "    def __init__(self):\n",
        "        Item.__init__(self)  # Call base class constructor\n",
        "        self.expiration = ''\n",
        "\n",
        "    def set_expiration(self, expir):\n",
        "        self.expiration = expir\n",
        "\n",
        "    def get_expiration(self):\n",
        "        return self.expiration\n",
        "\n",
        "item1 = Item()\n",
        "item1.set_name('Smith Cereal')\n",
        "item1.set_quantity(9)\n",
        "item1.display()\n",
        "\n",
        "item2 = Produce()\n",
        "item2.set_name('Apples')\n",
        "item2.set_quantity(40)\n",
        "item2.set_expiration('May 5, 2012')\n",
        "item2.display()\n",
        "print(f'  (Expires:({item2.get_expiration()}))')"
      ],
      "metadata": {
        "colab": {
          "base_uri": "https://localhost:8080/"
        },
        "id": "XuXmnU0cuDcg",
        "outputId": "d529d550-f784-44f7-e612-6ddb0ef8f7a2"
      },
      "execution_count": null,
      "outputs": [
        {
          "output_type": "stream",
          "name": "stdout",
          "text": [
            "Smith Cereal 9\n",
            "Apples 40\n",
            "  (Expires:(May 5, 2012))\n"
          ]
        }
      ]
    },
    {
      "cell_type": "markdown",
      "source": [
        "- *inheritance tree*: the hierarchy of classes from a derived class to the final base class\n",
        "- *overrides*: what occurs a member function that can be defined in the derived class having the same name as a method in the base class\n",
        "- *Mixins*: classes that provide some additional behavior by \"mixing in\" new methods but are not meant to be instantiated"
      ],
      "metadata": {
        "id": "6hiVn0UsvMbv"
      }
    },
    {
      "cell_type": "markdown",
      "source": [
        "##**Example Code**"
      ],
      "metadata": {
        "id": "8U31WvQ0uGe8"
      }
    },
    {
      "cell_type": "code",
      "source": [
        "#Using derived classes to print out speed\n",
        "\n",
        "class Vehicle:\n",
        "    def __init__(self):\n",
        "        self.speed = 0\n",
        "\n",
        "    def set_speed(self, speed_to_set):\n",
        "        self.speed = speed_to_set\n",
        "\n",
        "    def print_speed(self):\n",
        "        print(self.speed)\n",
        "\n",
        "\n",
        "class Car(Vehicle):\n",
        "    def print_car_speed(self):\n",
        "        print('Speed: ', end = '')\n",
        "        self.print_speed()\n",
        "\n",
        "\n",
        "class ElectricCar(Car):\n",
        "    def __init__(self):\n",
        "        self.battery_level = 0\n",
        "\n",
        "    def set_battery_level(self, level_to_set):\n",
        "        self.battery_level = level_to_set\n",
        "\n",
        "    def print_battery_level(self):\n",
        "        print(f'Battery: {self.battery_level}')\n",
        "\n",
        "\n",
        "myCar = ElectricCar()\n",
        "myCar.set_speed(40)\n",
        "myCar.set_battery_level(80)\n",
        "\n",
        "myCar.print_car_speed()\n",
        "myCar.print_battery_level()"
      ],
      "metadata": {
        "colab": {
          "base_uri": "https://localhost:8080/"
        },
        "id": "zEli9vpquK7I",
        "outputId": "7c5f90fd-fc88-4f0b-819d-da25ce5cfd8e"
      },
      "execution_count": null,
      "outputs": [
        {
          "output_type": "stream",
          "name": "stdout",
          "text": [
            "Speed: 40\n",
            "Battery: 80\n"
          ]
        }
      ]
    }
  ]
}