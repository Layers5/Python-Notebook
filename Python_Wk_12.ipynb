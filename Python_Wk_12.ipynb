{
  "nbformat": 4,
  "nbformat_minor": 0,
  "metadata": {
    "colab": {
      "provenance": [],
      "authorship_tag": "ABX9TyM5za9jMDd6UfkAIITA+VpV",
      "include_colab_link": true
    },
    "kernelspec": {
      "name": "python3",
      "display_name": "Python 3"
    },
    "language_info": {
      "name": "python"
    }
  },
  "cells": [
    {
      "cell_type": "markdown",
      "metadata": {
        "id": "view-in-github",
        "colab_type": "text"
      },
      "source": [
        "<a href=\"https://colab.research.google.com/github/Layers5/Python-Notebook/blob/main/Python_Wk_12.ipynb\" target=\"_parent\"><img src=\"https://colab.research.google.com/assets/colab-badge.svg\" alt=\"Open In Colab\"/></a>"
      ]
    },
    {
      "cell_type": "markdown",
      "source": [
        "#**Python Week 12: Numpy & Matplotlib**\n",
        "\n",
        "###**Functions**\n",
        "\n",
        "```\n",
        "#NumPy array functions\n",
        "array(objects): returns an ndarray based on a given object, ie a  list\n",
        "zeroes(arrShape)/one(arrayShape)/full(arrayShape, value): retyrns ann ndarray of a specificed shape filled iwith zeroes, ones or specified value\n",
        "array[row_index, col_index]: returns the element located at indeces [row_index,col_index]\n",
        "delete(ndarray, index, axis): returns a new ndarray w a row/column deleted from the given ndarray. deletes the row or column located by the index (0 for row, 1 for column)\n",
        "ndarray.sort(array_name, axis=__): sorts an ndarray in place in ascending order along an axis; if axis =  None, the array is flattened into a 1D array then sorted. If no argument is passed, sorting occurs along the  last axis (1 fora 2D axis)\n",
        "ndarray.ravel(): rturns a flattened(1D) ver of the given ndarray\n",
        "ndarray.reshape(new_shape): returns a new ndarray containing the elements of the given ndarray with a new shape\n",
        "ndarray.transpose(): returns the transpose of an ndarray\n",
        "\n",
        "#Mathematical operations for NP arrays\n",
        "array1 + array2:\tElement-wise addition\n",
        "array1 - array2:\tElement-wise subtraction\n",
        "array1 * array2:\tElement-wise multiplication\n",
        "array1 / array2:\tElement-wise division\n",
        "sqrt(array1):\tSquare root of array elements\n",
        "log(array1):\tLogarithm of array elements\n",
        "sin(array1):\tSine of array elements\n",
        "max(array1):\tMaximum of array elements\n",
        "min(array1): Minimum array of elements; returns a 0D array\n",
        "median(array1):\tMedian of array elements\n",
        "std(array1):\tStandard deviation of array elements\n",
        "var(array1):\tVariance of array elements\n",
        "dot(array1, array2):\tDot product array1 rows with array2 columns\n",
        "matmul(array1, array2):\tMatrix product of array1 and array2\n",
        "cross(array1, array2):\tCross product of array1 and array2\n",
        "```\n",
        "\n",
        "```\n",
        "#Matplotlib\n",
        "plot(x,y): a common function that plots the function given an x and y coordinates\n",
        "scatter(): a function used to create a scatter plot, where x and y are pairs of coordinates\n",
        "figure(figsize=[a,b]): creates a new figure for a plot to appear in and the size can be adjusted given parameters a and b\n",
        "show(): displays the figure and all the objects the figure contains\n",
        "savefig(name): saves the figure in the current working directory with the filename fname\n",
        "plt.title('', fontsize=__): gives the plot a title and with a given fontsize\n",
        "plt.xlabel('')/plt.ylabel(''): gives either x or y axis a label\n",
        "text(x, y, s): Adds string s to the figure at coordinates (x, y)\n",
        "annotate(s, xy, xytext): Links string s at coordinates given by xytext to a point given by xy\n",
        "plt.legend(loc): Adds a legend in the figure in a specified location (loc), which can include 'best', 'center', 'upper center', 'lower center', 'center left', 'center right', 'upper left', 'upper right', 'lower left', and 'lower right'. If no loc is given, legend is placed at the 'best' location with the least plot overlap\n",
        "\n",
        "subplot(nrow, ncol, index): can create multiple plotsand takes 3 parameters: nrows, ncols and an index to determine in which row or column to place the subplot\n",
        "suptitle(): adds a title to the entire figure (not individual subplots)\n",
        "\n",
        "```"
      ],
      "metadata": {
        "id": "gqGO96s77Ha-"
      }
    },
    {
      "cell_type": "markdown",
      "source": [
        "###**Vocab**\n",
        "\n",
        "- *NumPy*: a package that provides tools for mathematical computations in Python such as common linear algebra operations, fast fourier transforms and statistics.\n",
        "  - provides a multidimensional *array* object - conceptually similar tot a list- which is consisted of an ordere set of elements of the same type"
      ],
      "metadata": {
        "id": "I73PgxrY7jd_"
      }
    },
    {
      "cell_type": "code",
      "source": [
        "import numpy as np\n",
        "\n",
        "l1 = [15.5, 25.11, 19.0]\n",
        "l2 = [12.2, 1.3, 6.38]\n",
        "\n",
        "#create 2 1D arrays\n",
        "array1 = np.array(l1)\n",
        "array2 = np.array(l2)\n",
        "\n",
        "#Concatenate two lists\n",
        "print('Concatenation of list 1 and list 2: ', end='')\n",
        "print(l1 + l2)\n",
        "print()\n",
        "\n",
        "#Summing two lists\n",
        "print('Sum of list 1 and list 2 = ', end='')\n",
        "for i in range(len(l1)):\n",
        "  print(l1[i] + l2[i], end=' ')\n",
        "print('\\n')\n",
        "\n",
        "#sum two 1D arrays\n",
        "print('Sum of array1 and array 2= ', end='')\n",
        "print(array1 + array2)"
      ],
      "metadata": {
        "colab": {
          "base_uri": "https://localhost:8080/"
        },
        "id": "_oIjCEAj7-Ia",
        "outputId": "61f633cd-a5ec-496f-c1c2-8625a6c7eb65"
      },
      "execution_count": null,
      "outputs": [
        {
          "output_type": "stream",
          "name": "stdout",
          "text": [
            "Concatenation of list 1 and list 2: [15.5, 25.11, 19.0, 12.2, 1.3, 6.38]\n",
            "\n",
            "Sum of list 1 and list 2 = 27.7 26.41 25.38 \n",
            "\n",
            "Sum of array1 and array 2= [27.7  26.41 25.38]\n"
          ]
        }
      ]
    },
    {
      "cell_type": "markdown",
      "source": [
        "- *ndarray*: the NumPy array data type, with nd standing for 'N-dimensional'\n",
        "  - a 0D array has a scalar object\n",
        "  - a 1D array consists of a constainer of scalars\n",
        "  - a 2D arrray consists of a container of containers of scalars- similar to a matrix\n",
        "    > [[2,3,4],[5,6,7]]\n",
        "  - the **shape** of an array is a tupe of the lengths of each of the array's dimensions\n",
        "  - the **size** of an array is the total number of elements in an array\n",
        "    >the *shape* of [[2,3,4],[5,6,7]] array is **(2,3)** and the *size* of the array is **8**\n",
        "-*axis*: a direction along each axis direction\n",
        "  - 1D arrays have 1 axis, 2D arrays have 2 axes and so on\n",
        "    - **axis 0** is the *first* axis that runs along the *rows* and **axis 1** is the *second* axis that runs along the *columns*"
      ],
      "metadata": {
        "id": "1J9U_1Yx8_xh"
      }
    },
    {
      "cell_type": "code",
      "source": [
        "#deleting second row of myArr\n",
        "\n",
        "# Load necessary package\n",
        "import numpy as np\n",
        "\n",
        "# Create array\n",
        "myArr = np.array([[0, 7, 4], [5, 1, 8]])\n",
        "\n",
        "# Delete the second row of array\n",
        "ind = [0,3]\n",
        "myArr = np.delete(myArr,(1), axis=0)\n",
        "\n",
        "# Print the array\n",
        "print(myArr)"
      ],
      "metadata": {
        "id": "B9_jQtwB-LQT",
        "colab": {
          "base_uri": "https://localhost:8080/"
        },
        "outputId": "5363c700-9831-4a6f-824b-6fe461b892dc"
      },
      "execution_count": null,
      "outputs": [
        {
          "output_type": "stream",
          "name": "stdout",
          "text": [
            "[[0 7 4]]\n"
          ]
        }
      ]
    },
    {
      "cell_type": "code",
      "source": [
        "#Flattening myArray\n",
        "\n",
        "# Load necessary package\n",
        "import numpy as np\n",
        "\n",
        "# Create array\n",
        "myArray = np.array([[4, 3, 6], [0, 8, 5]])\n",
        "\n",
        "# Flatten array\n",
        "myArray = np.ravel(myArray)\n",
        "\n",
        "# Print the array\n",
        "print(myArray)"
      ],
      "metadata": {
        "colab": {
          "base_uri": "https://localhost:8080/"
        },
        "id": "rxcR4p8fHjxm",
        "outputId": "4679875e-0d76-4d87-e53f-cb065184d8c4"
      },
      "execution_count": null,
      "outputs": [
        {
          "output_type": "stream",
          "name": "stdout",
          "text": [
            "[4 3 6 0 8 5]\n"
          ]
        }
      ]
    },
    {
      "cell_type": "code",
      "source": [
        "#Returning meann of elements in myArray\n",
        "\n",
        "# Load necessary package\n",
        "import numpy as np\n",
        "\n",
        "# Create array\n",
        "myArray = np.array([[5, 47, 12, 36, 33, 44], [13, 3, 32, 34, 0, 43]])\n",
        "\n",
        "# Find mean of array elements\n",
        "myArray = np.mean(myArray)\n",
        "\n",
        "# Print the array\n",
        "print(myArray)"
      ],
      "metadata": {
        "colab": {
          "base_uri": "https://localhost:8080/"
        },
        "id": "qrdtYwnCHx7c",
        "outputId": "56149f0d-2a54-4766-9a20-0bbca3fddc81"
      },
      "execution_count": null,
      "outputs": [
        {
          "output_type": "stream",
          "name": "stdout",
          "text": [
            "25.166666666666668\n"
          ]
        }
      ]
    },
    {
      "cell_type": "markdown",
      "source": [
        "- *Matplotlib*: a package used to create static, dynamic, and interactive plots\n",
        "  - Seaborn is another data visualization package is based on Matplotlib and is mainly used for statistical graphs\n",
        "- *pyplot*: a library where figures can be created and is a state-based interface to the Matplotlib package that uses a syntax similar to MATLAB"
      ],
      "metadata": {
        "id": "-DBwhXuy-Mls"
      }
    },
    {
      "cell_type": "code",
      "source": [
        "import matplotlib.pyplot as plt\n",
        "import pandas as pd\n",
        "\n",
        "# Read the CSV file as a dataframe\n",
        "file = input()\n",
        "df = pd.read_csv(file)\n",
        "\n",
        "# Calculate and print the average of flight delays and flight cancellations\n",
        "average_delays = df['Delayed'].mean()\n",
        "average_cancellations = df['Cancelled'].mean()\n",
        "print(f\"Average delays: {average_delays:.2f}\")\n",
        "print(f\"Average cancellations: {average_cancellations:.2f}\")\n",
        "\n",
        "# Create lineplot of flight delays vs months\n",
        "plt.figure(figsize=(10, 6))\n",
        "plt.plot(df['Month'], df['Delayed'], label='Delays', marker='o')\n",
        "\n",
        "# Create lineplot of flight cancellations vs months\n",
        "plt.plot(df['Month'], df['Cancelled'], label='Cancellations', marker='o')\n",
        "\n",
        "# Add labels, title, and legend\n",
        "plt.xlabel('Months', fontsize=10)\n",
        "plt.ylabel('Number of Flights', fontsize=10)\n",
        "plt.title('Flight Status at LAX', fontsize=14)\n",
        "plt.legend()\n",
        "\n",
        "# Save figure as output_fig.png\n",
        "#plt.savefig('output_fig.png')\n",
        "\n",
        "# Display the plots\n",
        "plt.show()"
      ],
      "metadata": {
        "id": "sojIdfaiCWTT"
      },
      "execution_count": null,
      "outputs": []
    },
    {
      "cell_type": "markdown",
      "source": [
        "###**Things to know**\n",
        "\n",
        "- all containers of the same level have to have the same size\n"
      ],
      "metadata": {
        "id": "1TEKmSBE-Keg"
      }
    }
  ]
}