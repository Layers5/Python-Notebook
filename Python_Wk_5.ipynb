{
  "nbformat": 4,
  "nbformat_minor": 0,
  "metadata": {
    "colab": {
      "provenance": [],
      "authorship_tag": "ABX9TyNgecxhu+7CKJeabiPGD27b",
      "include_colab_link": true
    },
    "kernelspec": {
      "name": "python3",
      "display_name": "Python 3"
    },
    "language_info": {
      "name": "python"
    }
  },
  "cells": [
    {
      "cell_type": "markdown",
      "metadata": {
        "id": "view-in-github",
        "colab_type": "text"
      },
      "source": [
        "<a href=\"https://colab.research.google.com/github/Layers5/Python-Notebook/blob/main/Python_Wk_5.ipynb\" target=\"_parent\"><img src=\"https://colab.research.google.com/assets/colab-badge.svg\" alt=\"Open In Colab\"/></a>"
      ]
    },
    {
      "cell_type": "markdown",
      "source": [
        "#Python Notebook\n",
        "##Python Week 5: Strings and Lists\n",
        "\n",
        "###Functions\n",
        "```\n",
        "#about lists\n",
        "append(): allows you to add new elements to a list | my_list.append('abc')\n",
        "pop(): allows you to remove an element at index i from a list | my_list.pop(1)\n",
        "remove(): removes the first element whose value is v | my_list.remove('abc')\n",
        "len(list): allows you to find the length of the list\n",
        "list1 + list2: creates a new list with list 2 starting at the end of list 1\n",
        "min(list): finds the element with the smallest value (all elements are the same)\n",
        "max(list): finds the element with the largest value (all elements are the same)\n",
        "sum(list): finds the sum of all the elements (numbers only)\n",
        "list.index(val): finds the index in which the element 'val' occurs\n",
        "list.count(val): finds the number of occurances of 'val'\n",
        "\n",
        "#about strings\n",
        "replace(): allows you to replace any string with anoter string | user_tweet.replace('TTYL', 'talk to you later')\n",
        "split(): splits a string into a list of tokens\n",
        "join(): joins a list of strings together into a single string\n",
        "replace(old, new): Returns a copy of the string with all occurrences of the substring old replaced by the string new\n",
        "ind(x): Returns the index of the first occurrence of item x in the string, otherwise, find(x) returns -1\n",
        "find(x, start): Same as find(x), but begins the search at index start\n",
        "rfind(x): Same as find(x) but searches the string in reverse, returning the last occurrence in the string\n",
        "count(x): Returns the number of times x occurs in the string\n",
        "isalnum(): Returns True if all characters in the string are lowercase or uppercase letters, or the numbers 0-9\n",
        "isdigit(): Returns True if all characters are the numbers 0-9\n",
        "islower(): Returns True if all cased characters are lowercase letters\n",
        "isupper(): Returns True if all cased characters are uppercase letters\n",
        "isspace(): Returns True if all characters are whitespace\n",
        "startswith(x): Returns True if the string starts with x\n",
        "endswith(x): Returns True if the string ends with x\n",
        "\n",
        "capitalize(): Returns a copy of the string with the first character capitalized and the rest lowercased.\n",
        "lower(): Returns a copy of the string with all characters lowercased.\n",
        "upper(): Returns a copy of the string with all characters uppercased.\n",
        "strip(): Returns a copy of the string with leading and trailing whitespace removed.\n",
        "title(): Returns a copy of the string as a title, with first letters of words capitalized\n",
        "```"
      ],
      "metadata": {
        "id": "g0nzp8iMJcQp"
      }
    },
    {
      "cell_type": "markdown",
      "source": [
        "###Vocab\n",
        "\n",
        "- *container*: a construct used to group related values togethr and containes references to other objects instead of data\n",
        "- *list*: a container created by surrounding a sequence of variables or literals with brackets\n",
        "  - i.e. my_list = [10, 'abc']\n",
        "- *element*: a list item\n",
        "- *index*: the specific location of an element in a list, starting at 0\n",
        "  - i.e. my_list = [10, 'abc'], my_list[0] = 10 and my_list[1] = 'abc'\n",
        "  - you can create an empty list by putting: my_list = []\n",
        "  - you can set a specific location of a list: my_towns[1] = 'Detroit'\n",
        "  - you can also equal another variable to be equal to another list's element: my_var = my_list[2]\n",
        "- *Slice notation*: creates a new string whose value contains the characters of the list from indices start to end\n",
        "  - has the form my_str[start:end]\n",
        "  - when you use slice notation, the last element printed will be the second to late element to the index written in the notation\n",
        "    - look below for example"
      ],
      "metadata": {
        "id": "wjTcES6OJh81"
      }
    },
    {
      "cell_type": "code",
      "source": [
        "my_str = [0,1,2,3,4,5]\n",
        "print(my_str[0:4])"
      ],
      "metadata": {
        "id": "WeiOlPQQJk3u",
        "colab": {
          "base_uri": "https://localhost:8080/"
        },
        "outputId": "be14b1f1-781a-4175-c06a-883e9540b999"
      },
      "execution_count": null,
      "outputs": [
        {
          "output_type": "stream",
          "name": "stdout",
          "text": [
            "[0, 1, 2, 3]\n"
          ]
        }
      ]
    },
    {
      "cell_type": "markdown",
      "source": [
        "- *stride*: determines how much to increment the index after reading each elemet\n",
        "  - i.e. my_str[0:10:2] reads every other element from 0 to 10\n",
        "- *field width*: defines the minimum number of characters that must be inserted into the string\n",
        "  - i.e. {count:5} assigns a field with a named value 'count' and a field width of 5\n",
        "  - having a field width larger than the value of the variable leads to create extra whitespace"
      ],
      "metadata": {
        "id": "rv0UP60ckINb"
      }
    },
    {
      "cell_type": "code",
      "source": [
        "name = 'Jack'\n",
        "goals = '12'\n",
        "print(f'{name:7}{goals:4}')"
      ],
      "metadata": {
        "colab": {
          "base_uri": "https://localhost:8080/"
        },
        "id": "rqE1osIJlRHd",
        "outputId": "13c8c7fb-9117-4f0c-ec16-120c3d9f3986"
      },
      "execution_count": null,
      "outputs": [
        {
          "output_type": "stream",
          "name": "stdout",
          "text": [
            "Jack   12  \n"
          ]
        }
      ]
    },
    {
      "cell_type": "markdown",
      "source": [
        "- *alignment character*: determines how a value should be aligned within the width of the field\n",
        "  - f'{\"___\": <num}' => creates num spaces after the value, s.t. it has left alignment\n",
        "  - f'{\"___\": >num}' => creates num spaces before the value, s.t. it has right alignment\n",
        "  - f'{\"___\": ^num}' => creates num/2 spaces before and after the value, s.t. it has center alignment"
      ],
      "metadata": {
        "id": "1yUt33TOlYCl"
      }
    },
    {
      "cell_type": "code",
      "source": [
        "print(f'{\"Bob\":<5}')\n",
        "print(f'{\"Bob\":>5}')\n",
        "print(f'{\"Bob\":^5}')"
      ],
      "metadata": {
        "colab": {
          "base_uri": "https://localhost:8080/"
        },
        "id": "Ozs_mdimmV1B",
        "outputId": "ef1a5470-c873-43cb-e0af-cb5ba104c129"
      },
      "execution_count": null,
      "outputs": [
        {
          "output_type": "stream",
          "name": "stdout",
          "text": [
            "Bob  \n",
            "  Bob\n",
            " Bob \n"
          ]
        }
      ]
    },
    {
      "cell_type": "markdown",
      "source": [
        "- *fill character*: used to pad a replacement field when the inserted string is smaller than the field width\n",
        "- *precision*: indicates how many digits should be included in the output of floating types\n",
        "  - i.e. f'{1.725:.1f}' => prints as 1.7\n",
        "- *token*: a substring that forms a part of a larger string\n",
        "- *separator*: a character or sequence of characters that indicates where to split the string into tokens\n",
        "  - i.e. 'a#b#c'.split('#') splits the string using '#' as a separater into 3 tokens: ['a','b','c']"
      ],
      "metadata": {
        "id": "Fl7iYArTnmhu"
      }
    },
    {
      "cell_type": "markdown",
      "source": [
        "###Things to know\n",
        "\n",
        "- When you create a slice of a string variable then change the value of the variable, it does not also change the value of the slice"
      ],
      "metadata": {
        "id": "2H4gDxEyJlFK"
      }
    },
    {
      "cell_type": "code",
      "source": [
        "state = 'Vermont'\n",
        "my_slice = state[2:5]\n",
        "print(my_slice)\n",
        "\n",
        "state = 'Wyoming'\n",
        "print(my_slice)"
      ],
      "metadata": {
        "id": "tPb0LhtmJnFE",
        "colab": {
          "base_uri": "https://localhost:8080/"
        },
        "outputId": "b10fdb0c-3eea-45ee-eef6-bde341f20b58"
      },
      "execution_count": null,
      "outputs": [
        {
          "output_type": "stream",
          "name": "stdout",
          "text": [
            "rmo\n",
            "rmo\n"
          ]
        }
      ]
    },
    {
      "cell_type": "markdown",
      "source": [
        "- you can write a string backwards by:\n",
        "  - print(fxn_name[-1::-1])"
      ],
      "metadata": {
        "id": "wv7HucaiGW3z"
      }
    },
    {
      "cell_type": "markdown",
      "source": [
        "##Monday Classwork (9/25)"
      ],
      "metadata": {
        "id": "e6dVTjtaNHfL"
      }
    },
    {
      "cell_type": "code",
      "source": [
        "#Problem A\n",
        "string = input()\n",
        "num1 = int(input())\n",
        "num2= int(input())\n",
        "\n",
        "\n",
        "def repeater(string, num1,  num2):\n",
        "  nnum2 = num2-2\n",
        "  string = string[0:num1]\n",
        "  new_string = string + string\n",
        "  for i in range(nnum2):\n",
        "    new_string = string + new_string\n",
        "  return new_string\n",
        "\n",
        "repeater(string,num1, num2)"
      ],
      "metadata": {
        "colab": {
          "base_uri": "https://localhost:8080/",
          "height": 90
        },
        "id": "Pv87tb6PISRL",
        "outputId": "c125e927-42db-4373-9cc1-5f00d4b0c4e3"
      },
      "execution_count": null,
      "outputs": [
        {
          "name": "stdout",
          "output_type": "stream",
          "text": [
            "Calrissian \n",
            "5\n",
            "2\n"
          ]
        },
        {
          "output_type": "execute_result",
          "data": {
            "text/plain": [
              "'CalriCalri'"
            ],
            "application/vnd.google.colaboratory.intrinsic+json": {
              "type": "string"
            }
          },
          "metadata": {},
          "execution_count": 21
        }
      ]
    },
    {
      "cell_type": "markdown",
      "source": [
        "#Wednesday Classwork (9/27)"
      ],
      "metadata": {
        "id": "DivfTD9AdvsX"
      }
    },
    {
      "cell_type": "code",
      "source": [
        "#Problem A\n",
        "text = 'Contact us at info@example.com or support@company.com for assistance.'\n",
        "\n",
        "def find_emails(text):\n",
        "  resp = []\n",
        "  if '@' in text:\n",
        "    brok_txt = [text.split()]\n",
        "    for i in len(brok_txt):\n",
        "      resp = brok_txt.index('@')\n",
        "      print(resp)\n",
        "      brok_txt[resp].remove\n",
        "  else:\n",
        "    resp = 'No email address is found'\n",
        "\n",
        "    print(resp)\n",
        "  return resp\n",
        "\n",
        "  print(find_emails(text))"
      ],
      "metadata": {
        "id": "hFPIwrJgNGY8"
      },
      "execution_count": 12,
      "outputs": []
    }
  ]
}