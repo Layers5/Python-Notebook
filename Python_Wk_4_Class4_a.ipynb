{
  "nbformat": 4,
  "nbformat_minor": 0,
  "metadata": {
    "colab": {
      "provenance": [],
      "authorship_tag": "ABX9TyNf5mbdcXANVjgi4/GwrKEU",
      "include_colab_link": true
    },
    "kernelspec": {
      "name": "python3",
      "display_name": "Python 3"
    },
    "language_info": {
      "name": "python"
    }
  },
  "cells": [
    {
      "cell_type": "markdown",
      "metadata": {
        "id": "view-in-github",
        "colab_type": "text"
      },
      "source": [
        "<a href=\"https://colab.research.google.com/github/Layers5/Python-Notebook/blob/main/Python_Wk_4_Class4_a.ipynb\" target=\"_parent\"><img src=\"https://colab.research.google.com/assets/colab-badge.svg\" alt=\"Open In Colab\"/></a>"
      ]
    },
    {
      "cell_type": "markdown",
      "source": [
        "#Python Notebook\n",
        "##M4 Monday Classwork"
      ],
      "metadata": {
        "id": "y7niKQflM352"
      }
    },
    {
      "cell_type": "code",
      "execution_count": null,
      "metadata": {
        "colab": {
          "base_uri": "https://localhost:8080/"
        },
        "id": "xztEjCtVGgln",
        "outputId": "092dd3d4-29a5-4b88-92e3-0e3110703164"
      },
      "outputs": [
        {
          "output_type": "stream",
          "name": "stdout",
          "text": [
            "Estimated value of the derivative of sine: 0.5398814803603269\n",
            "Actual value of cosine: 0.5403023058681398\n",
            "Error is: -0.0004208255078128609\n"
          ]
        }
      ],
      "source": [
        "import math\n",
        "\n",
        "x = 1\n",
        "h = float(0.001)\n",
        "\n",
        "def diff_sin(x,h):\n",
        "    estim_sin = (math.sin(x+h) - math.sin(x))/h\n",
        "    return estim_sin\n",
        "\n",
        "print('Estimated value of the derivative of sine:', diff_sin(x,h))\n",
        "print('Actual value of cosine:', math.cos(x))\n",
        "\n",
        "def diff_error(estim_sin):\n",
        "    num_err = diff_sin(x,h)-math.cos(x)\n",
        "    return num_err\n",
        "\n",
        "print('Error is:', diff_error(diff_sin(x,h)))"
      ]
    },
    {
      "cell_type": "code",
      "source": [
        "x = 1\n",
        "h = 0.001\n",
        "def sin_X(x):\n",
        "  sin = math.sin(x)\n",
        "  return sin\n",
        "\n",
        "def poly_X(x):\n",
        "  poly = 3*x**3 - 2*x**2 - 5*x\n",
        "  return poly\n",
        "\n",
        "def lambda\n",
        "\n",
        "f = 'poly_X'\n",
        "def diff(f,x,h):\n",
        "  if f == 'sin_X':\n",
        "    diff_sin = (sin_X(x+h) - sin_X(x))/h\n",
        "    return print('estim sin dev:', diff_sin)\n",
        "  if f == 'poly_X':\n",
        "    diff_poly = (poly_X(x+h) - poly_X(x))/h\n",
        "    return print('estim poly dev:', diff_poly)\n",
        "  if f == 'lambda':\n",
        "    diff_lam =\n",
        "\n",
        "diff(f,x,h)\n",
        "\n",
        "def acc(f,x):\n",
        "  if f == 'sin_X':\n",
        "    acc_sin = math.cos(x)\n",
        "    return acc_sin\n",
        "  if f == 'poly_X':\n",
        "    acc_poly = 9*x**2 - 4*x - 5\n",
        "    return acc_poly\n",
        "  #if f == 'lambda'\n",
        "\n",
        "print('actual dev:', acc(f,x))"
      ],
      "metadata": {
        "colab": {
          "base_uri": "https://localhost:8080/"
        },
        "id": "KyE8tMWqIb4O",
        "outputId": "c8fb7d8e-ca25-44de-9f0a-5142c283a8bd"
      },
      "execution_count": null,
      "outputs": [
        {
          "output_type": "stream",
          "name": "stdout",
          "text": [
            "estim poly dev: 0.007003000000782578\n",
            "actual dev: 0\n"
          ]
        }
      ]
    }
  ]
}