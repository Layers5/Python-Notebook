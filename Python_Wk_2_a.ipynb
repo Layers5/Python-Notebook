{
  "nbformat": 4,
  "nbformat_minor": 0,
  "metadata": {
    "colab": {
      "provenance": [],
      "authorship_tag": "ABX9TyM9iU4quhbuzhJ1SsPipgYx",
      "include_colab_link": true
    },
    "kernelspec": {
      "name": "python3",
      "display_name": "Python 3"
    },
    "language_info": {
      "name": "python"
    }
  },
  "cells": [
    {
      "cell_type": "markdown",
      "metadata": {
        "id": "view-in-github",
        "colab_type": "text"
      },
      "source": [
        "<a href=\"https://colab.research.google.com/github/Layers5/Python-Notebook/blob/main/Python_Wk_2_a.ipynb\" target=\"_parent\"><img src=\"https://colab.research.google.com/assets/colab-badge.svg\" alt=\"Open In Colab\"/></a>"
      ]
    },
    {
      "cell_type": "markdown",
      "source": [
        "#Python Notebook\n",
        "##Python Week 2_a: Variables and Expressions\n",
        "\n",
        "###Functions\n",
        "\n",
        "```\n",
        "if ___:\n",
        "else:\n",
        "\n",
        "if ___:\n",
        "elif___:\n",
        "\n",
        "```\n",
        "\n",
        "###Vocab\n",
        "-*branch*: a sequence of statements executed under a certain condition\n",
        "\n",
        "-*if branch*: a branch taken only **if** an expression is true\n",
        "\n",
        ">can be used to compute the absolute value of an integer\n",
        "\n"
      ],
      "metadata": {
        "id": "h0HV1N72Tgn8"
      }
    },
    {
      "cell_type": "code",
      "source": [
        "val = int(input(\"What is the value?\"))\n",
        "\n",
        "if val < 0:\n",
        "  val = -val\n",
        "\n",
        "print(val)"
      ],
      "metadata": {
        "colab": {
          "base_uri": "https://localhost:8080/"
        },
        "id": "gyBPi_gUXbZk",
        "outputId": "6254b762-c260-40d1-ff69-d6ad771abe38"
      },
      "execution_count": null,
      "outputs": [
        {
          "output_type": "stream",
          "name": "stdout",
          "text": [
            "What is the value?7\n",
            "7\n"
          ]
        }
      ]
    },
    {
      "cell_type": "markdown",
      "source": [
        "-*if-else* branches: contains two branches; the first is executed **if** an expression is true, **else** the other branch is executed\n",
        ">can be used to compute the maximum of two values\n",
        "\n",
        "\n"
      ],
      "metadata": {
        "id": "g7WLAQpeWrfg"
      }
    },
    {
      "cell_type": "code",
      "source": [
        "x = int(input(\"What is the x value?\"))\n",
        "y = int(input(\"What is the y value?\"))\n",
        "\n",
        "if x < y:\n",
        "  print('Max is', y)\n",
        "else:\n",
        "  print('Max is', x)"
      ],
      "metadata": {
        "colab": {
          "base_uri": "https://localhost:8080/"
        },
        "id": "g8YnjavoWtho",
        "outputId": "afcb52f2-4bd6-4998-f85a-3a2a415e0920"
      },
      "execution_count": null,
      "outputs": [
        {
          "output_type": "stream",
          "name": "stdout",
          "text": [
            "What is the x value?5\n",
            "What is the y value?3\n",
            "Max is 5\n"
          ]
        }
      ]
    },
    {
      "cell_type": "markdown",
      "source": [
        ">can be used to calculate insurance prices"
      ],
      "metadata": {
        "id": "jrSEWzZSZB37"
      }
    },
    {
      "cell_type": "code",
      "source": [
        "userAge = int(input(\"What is age?\"))\n",
        "#insureprice = 2200\n",
        "\n",
        "if userAge < 25:\n",
        "  insureprice = 4800\n",
        "else:\n",
        "  insureprice = 2200\n",
        "\n",
        "print('Annual price: $', insureprice )"
      ],
      "metadata": {
        "colab": {
          "base_uri": "https://localhost:8080/"
        },
        "id": "s8J5rt89Wq6X",
        "outputId": "6e73a7e2-6f1b-4f40-fbda-38c92aeae53e"
      },
      "execution_count": null,
      "outputs": [
        {
          "output_type": "stream",
          "name": "stdout",
          "text": [
            "What is age?28\n",
            "Annual price: $ 2200\n"
          ]
        }
      ]
    },
    {
      "cell_type": "markdown",
      "source": [
        "-*If-elseIf-else* branches: if you want to make multiple branches; the else part is optional"
      ],
      "metadata": {
        "id": "iHk5ZzeQZ2Ca"
      }
    },
    {
      "cell_type": "code",
      "source": [
        "numYears = int(input(\"How many years married?\"))\n",
        "\n",
        "if numYears == 1 :\n",
        "  print(\"Newlyweds\")\n",
        "if 25 <= numYears < 50:\n",
        "  print(\"Silver\")\n",
        "if 50 <= numYears:\n",
        "  print('Golden')\n",
        "else:\n",
        "  print(\"Congrats\")"
      ],
      "metadata": {
        "colab": {
          "base_uri": "https://localhost:8080/"
        },
        "id": "xtPIqMhOZ3Pe",
        "outputId": "b85d5735-db8b-40b7-c3e7-bbe81d0b0585"
      },
      "execution_count": null,
      "outputs": [
        {
          "output_type": "stream",
          "name": "stdout",
          "text": [
            "How many years married?29\n",
            "Silver\n",
            "Congrats\n"
          ]
        }
      ]
    },
    {
      "cell_type": "code",
      "source": [
        "#Determining if a number is even or odd\n",
        "\n",
        "user_num = int(input(\"Enter a number:\"))\n",
        "\n",
        "div_remainder = user_num % 2\n",
        "\n",
        "if div_remainder == 0:\n",
        "  print(f'{user_num} is even')\n",
        "else:\n",
        "  print(f'{user_num} is odd.')\n"
      ],
      "metadata": {
        "colab": {
          "base_uri": "https://localhost:8080/"
        },
        "id": "yR64URoDeUj4",
        "outputId": "c55da469-1af7-47a3-c6a6-9fdd34aa5b17"
      },
      "execution_count": null,
      "outputs": [
        {
          "output_type": "stream",
          "name": "stdout",
          "text": [
            "Enter a number:4\n",
            "4 is even\n"
          ]
        }
      ]
    },
    {
      "cell_type": "markdown",
      "source": [
        "-*equality operator*: is used in *If statements* in order to equal the variable\n",
        "to an integer\n",
        "\n",
        "-*inequality operator (!=)* = is used to check if two values are equal in an *if* statement\n",
        "\n",
        "-*Boolean* is a type of that just has two values: True or False\n",
        "\n",
        "-*elif*: short for *else if* in a multi-branch if statement\n",
        "\n",
        "-*Relational operator*: check's how one operand's value relates to another\n",
        "> a<b\n",
        "\n",
        "> a>b\n",
        "\n",
        ">a<= b\n",
        "\n",
        ">a>=b\n",
        "\n",
        "- *Logical operator*: include AND, OR and NOT in evaluating logic statements\n",
        "> 'a AND b' : logical and (true when both of its operands are true)\n",
        "\n",
        ">'a OR b': logical or (true when at least one of its operands are true)\n",
        "\n",
        ">'NOT a': logical not (true when its one operand is false, and vice versa)\n",
        "\n",
        "```\n",
        "if (user_channel >= 2) and (user_channel <= 499):\n",
        "  channel_type = 's'\n",
        "elif (user_channnel >= 1002) and (user_channel <= 1449):\n",
        "  channel_type = 'h'\n",
        "else:\n",
        "  channel_type = 'e'\n",
        "\n",
        "```\n",
        "\n",
        "\n",
        "###Things to know\n",
        "\n",
        "-in an *if-else* branch, if the value is equal to the value tested against, it will run the **else branch**\n",
        "\n",
        "-operator chaining allows you to run multiple comparisons on the left and right of the variable\n",
        ">i.e. 15 < num_years < 20 or 0 <= x < 100\n",
        "\n",
        "-there are two ways in which you can detect ranges: *Implicitly* and *Explicitly*,\n",
        "\n",
        ">Implicit:\n",
        "\n",
        "```\n",
        "if x< 0:\n",
        "  #Negative\n",
        "elif (x<= 10):\n",
        "  #0...10\n",
        "elif (x <= 20):\n",
        "  #11...20\n",
        "else:\n",
        "  #21+\n",
        "```\n",
        "\n",
        ">and Explicit:\n",
        "\n",
        "\n",
        "```\n",
        "if x < 0:\n",
        "  #Negative\n",
        "elif (x>= 0) and (x <= 10):\n",
        "  #0...10\n",
        "elif (x >=11) and (x <= 20):\n",
        "  #11...20\n",
        "else:\n",
        "  #21+\n",
        "\n",
        "```\n",
        "\n",
        ">Implicit is useful to simplify a multi-branch if the statement does not have gaps\n",
        "\n",
        "-You can also use logic statements for gaps:"
      ],
      "metadata": {
        "id": "o8GQBWeAWuBE"
      }
    },
    {
      "cell_type": "code",
      "source": [
        "j_num = int(input('What is the jersey number?'))\n",
        "\n",
        "if (j_num >= 40 and j_num <= 59) or (j_num >= 90 and j_num <= 99):\n",
        "  print('Linebacker')\n",
        "elif (j_num >= 40 and j_num <= 49) or (j_num >= 80 and j_num <= 89):\n",
        "  print('Tight end')\n",
        "elif (j_num >= 50 and j_num <=79) or (j_num >= 80 and j_num <= 89):\n",
        "  print('Defensive Lineman')\n",
        "elif (j_num > 0 and j_num <= 19):\n",
        "  print('Quarterback')"
      ],
      "metadata": {
        "colab": {
          "base_uri": "https://localhost:8080/"
        },
        "id": "gJkiS1MLZzDI",
        "outputId": "7e2ac985-6626-495e-a810-9e6b6799a2e2"
      },
      "execution_count": 3,
      "outputs": [
        {
          "output_type": "stream",
          "name": "stdout",
          "text": [
            "What is the jersey number?10\n",
            "Quarterback\n"
          ]
        }
      ]
    },
    {
      "cell_type": "markdown",
      "source": [
        "-You can write an *If-else* statement in one line by:\n",
        "\n",
        "```\n",
        "if x<1:\n",
        "  y = x\n",
        "else:\n",
        "  y = 0\n",
        "\n",
        "y = x if (x<1) else 0\n",
        "```\n",
        "\n",
        "- a slightly more complicated example:\n",
        "\n",
        "```\n",
        "num_users = int(input())\n",
        "update_direction = int(input())\n",
        "\n",
        "num_users = num_users + 1 if (update_direction ==3) else num_users-1\n",
        "\n",
        "print(f'New value is: {num_users}')\n",
        "```\n",
        "\n"
      ],
      "metadata": {
        "id": "FtO6y7FSclTc"
      }
    }
  ]
}