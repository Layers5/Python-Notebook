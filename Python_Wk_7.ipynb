{
  "nbformat": 4,
  "nbformat_minor": 0,
  "metadata": {
    "colab": {
      "provenance": [],
      "authorship_tag": "ABX9TyPjr7dIiYu52a+I36uGQ2zN",
      "include_colab_link": true
    },
    "kernelspec": {
      "name": "python3",
      "display_name": "Python 3"
    },
    "language_info": {
      "name": "python"
    }
  },
  "cells": [
    {
      "cell_type": "markdown",
      "metadata": {
        "id": "view-in-github",
        "colab_type": "text"
      },
      "source": [
        "<a href=\"https://colab.research.google.com/github/Layers5/Python-Notebook/blob/main/Python_Wk_7.ipynb\" target=\"_parent\"><img src=\"https://colab.research.google.com/assets/colab-badge.svg\" alt=\"Open In Colab\"/></a>"
      ]
    },
    {
      "cell_type": "markdown",
      "source": [
        "#Python Notebook\n",
        "##Python Week 7: Dictionaries\n",
        "\n",
        "###Functions\n",
        "```\n",
        "set(): accepts a sequence-type iteratble object (i.e. list, tuple, string) whose elements are inserted into the set\n",
        "set1.update(set2):\tAdds the elements in set2 to set1.\n",
        "set.add(value):\tAdds value into the set.\n",
        "set.clear(): Clears all elements from the set.\n",
        "\n",
        "#Set operations\n",
        "set.intersection(set_a, set_b, set_c, ...): Returns a new set containing only the elements in common between set and all provided sets.\n",
        "set.union(set_a, set_b, set_c...):\tReturns a new set containing all of the unique elements in all sets.\n",
        "set.difference(set_a, set_b, set_c...):\tReturns a set containing only the elements of set that are not found in any of the provided sets.\n",
        "set_a.symmetric_difference(set_b):\tReturns a set containing only elements that appear in exactly one of set_a or set_b\n",
        "\n",
        "#dictionaries\n",
        "dict[k] = v: Adds the new key-value pair k-v, if dict[k] does not already exist\n",
        "dict[k] = v: Updates the existing entry dict[k], if dict[k] already exists\n",
        "del dict[k]: Deletes the entry dict[k]\n",
        "\n",
        "my_dict.get(key,default): reads the value of the key from the dictionary (if the key doesn't exist in the dictionary, it retuurns = default)\n",
        "dict.items(): returns a view object that yields (key, value) tuples.\n",
        "dict.keys(): returns a view object that yields dictionary keys.\n",
        "dict.values(): returns a view object that yields dictionary values.\n",
        "\n",
        "```"
      ],
      "metadata": {
        "id": "ckysQ6OJ81Of"
      }
    },
    {
      "cell_type": "markdown",
      "source": [
        "###Vocab\n",
        "\n",
        "- *set*: an unordered collection of unique elements and has the following properties:\n",
        "  1. the elements are unordered- and do not have a position or index\n",
        "  2. the elements are unique- thus no two elements have the same value\n",
        "- *set literal*: can be written using curly brackets '{ }' with commas separating set elements"
      ],
      "metadata": {
        "id": "izwXIDo09KGd"
      }
    },
    {
      "cell_type": "code",
      "source": [
        "#creating a set using the set() function\n",
        "list1 = [1,2,3]\n",
        "nums1 = set(list1)\n",
        "\n",
        "#creating a set using a set literal\n",
        "nums2 = {7,8,9}\n",
        "\n",
        "print(nums1)\n",
        "print(nums2)"
      ],
      "metadata": {
        "colab": {
          "base_uri": "https://localhost:8080/"
        },
        "id": "uFBElPTz9NTG",
        "outputId": "67a97a61-db9e-40cf-e3a4-fc99131485a1"
      },
      "execution_count": null,
      "outputs": [
        {
          "output_type": "stream",
          "name": "stdout",
          "text": [
            "{1, 2, 3}\n",
            "{8, 9, 7}\n"
          ]
        }
      ]
    },
    {
      "cell_type": "markdown",
      "source": [
        "- *dictionary*: a python container used to describe associative relationships\n",
        " - represented by the *dict* object type\n",
        " - created by using curly brackets '{ }' to surround the **key:value pairs**\n",
        "  - i.e.: players = {'Lionel Messi':10, 'Christiano Ronaldo': 7}\n",
        "- *key*: a term that can be located in a dictionary\n",
        "- *value*: describes some data associated with a *key*, such as a definition  \n",
        "- *del*: a keyword ised to remove entries from a dictionary\n",
        "  - del prices['papaya']\n",
        "- **args*: can be included in a function definition as parameter that collects optional positional paramenters into an *arbitrary argument list* tuple\n",
        "- **kwargs*/*keyword arguments*: creates a dictionary containing 'extra' arguments not defined in the function definition\n",
        "- *hash*: a transformation of the key into a unique value that allows the interpreter to perform fast lookup\n",
        "- *view object*: provides read-only access to dictionary keys and values\n",
        "- *nested dictionaries*: when a dictionary contains another dictionary as a value\n",
        "- *data structure*: a method of organizing adta in a logical and coherent fashion"
      ],
      "metadata": {
        "id": "MahA4JuoEFBZ"
      }
    },
    {
      "cell_type": "markdown",
      "source": [
        "###Things to know\n",
        "- you can only make an empty set using the set() function\n",
        "- if there are any duplicates input into the set() function- they will be removed\n",
        "- bc sets are mutable- you can using functions like pop(), remove(), and add()\n",
        "- in order to call a certain element in a dictionary, you must provide the *key*\n",
        "  > i.e. : legs = {'human':2, 'cat':4, 'spider': 8}\n",
        "  \n",
        "  > print(legs{'human'}) => 2"
      ],
      "metadata": {
        "id": "rG_NSiZP9Ni-"
      }
    },
    {
      "cell_type": "markdown",
      "source": [
        "##Monday Classwork (10.09.23)"
      ],
      "metadata": {
        "id": "n6jVis1bNtEh"
      }
    },
    {
      "cell_type": "code",
      "source": [
        "#Ex. 1\n",
        "#Write a function encrypt(message, cipher) that encrypts a message using a cipher stored in a dictionary.\n",
        "#The returned string should only use upper case letters.   Test it using the above message and cipher.\n",
        "\n",
        "cipher = {'A': 'Z', 'B': 'A', 'C': 'V',  'D': 'K',  'E': 'F',  'F': 'D',  'G': 'X',  'H': 'C',  'I': 'G',  'J': 'E',  'K': 'W',  'L': 'L',  'M': 'I',  'N': 'P', 'O': 'Y',  'P': 'H', 'Q': 'R', 'R': 'B',  'S': 'N',  'T': 'S',  'U': 'J',  'V': 'M',  'W': 'O',  'X': 'Q',  'Y': 'U',  'Z': 'T'}\n",
        "message = ('The quick brown fox jumps over the lazy dog.')\n",
        "message.upper()\n",
        "\n",
        "def encrypt(message, cipher):\n",
        "  encryptedmess = \"\"\n",
        "  for letter in message:\n",
        "    if letter.upper() in cipher.keys():\n",
        "      encryptedmess += cipher[letter.upper()]\n",
        "    else:\n",
        "      encryptedmess += letter\n",
        "    return encryptedmess\n",
        "\n",
        "print(encrypt(message, cipher))\n",
        "\n"
      ],
      "metadata": {
        "colab": {
          "base_uri": "https://localhost:8080/"
        },
        "id": "YO6IsCk3NzlA",
        "outputId": "d89dad6c-bdd3-4588-c335-ccd565c7c66d"
      },
      "execution_count": null,
      "outputs": [
        {
          "output_type": "stream",
          "name": "stdout",
          "text": [
            "S\n"
          ]
        }
      ]
    }
  ]
}