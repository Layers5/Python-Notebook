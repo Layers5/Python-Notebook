{
  "nbformat": 4,
  "nbformat_minor": 0,
  "metadata": {
    "colab": {
      "provenance": [],
      "authorship_tag": "ABX9TyOBl2qGluSq2CcJ7ldPQSu6",
      "include_colab_link": true
    },
    "kernelspec": {
      "name": "python3",
      "display_name": "Python 3"
    },
    "language_info": {
      "name": "python"
    }
  },
  "cells": [
    {
      "cell_type": "markdown",
      "metadata": {
        "id": "view-in-github",
        "colab_type": "text"
      },
      "source": [
        "<a href=\"https://colab.research.google.com/github/Layers5/Python-Notebook/blob/main/Python_Wk_3_Class3_a.ipynb\" target=\"_parent\"><img src=\"https://colab.research.google.com/assets/colab-badge.svg\" alt=\"Open In Colab\"/></a>"
      ]
    },
    {
      "cell_type": "markdown",
      "source": [
        "#Python Classwork\n",
        "##Monday, Week 3 (9/11)\n",
        "\n",
        "####Activity 1"
      ],
      "metadata": {
        "id": "AsGq-6DvB4yD"
      }
    },
    {
      "cell_type": "code",
      "execution_count": null,
      "metadata": {
        "colab": {
          "base_uri": "https://localhost:8080/"
        },
        "id": "h_rnvr4nB3js",
        "outputId": "9cd60513-f9f4-414c-e190-1829007ae187"
      },
      "outputs": [
        {
          "output_type": "stream",
          "name": "stdout",
          "text": [
            "This semester I have Physics\n"
          ]
        }
      ],
      "source": [
        "def my_course(course_name):\n",
        "  print(\"This semester I have\", course_name)\n",
        "\n",
        "\n",
        "course_name = str('Physics')\n",
        "my_course(course_name)\n",
        "#print(my_course('Physics'))"
      ]
    },
    {
      "cell_type": "markdown",
      "source": [
        "- If i set the coursename as 'Physics'\n",
        ">This semester I have Physics\n",
        "\n",
        "- If I use print(mu_course('Physics')) then I get the normal output plus 'None' underneath"
      ],
      "metadata": {
        "id": "ffGZ3w12C1jE"
      }
    },
    {
      "cell_type": "markdown",
      "source": [
        "###Activity 2"
      ],
      "metadata": {
        "id": "DmqlIYUOFrsA"
      }
    },
    {
      "cell_type": "code",
      "source": [
        "def is_even(num):\n",
        "  \"\"\"\n",
        "Lets the user know if the given variable num is even or not\n",
        "\n",
        "Parameter\n",
        "---\n",
        "num : integer\n",
        "  the number given\n",
        "---\n",
        "\n",
        "prints True: if the number is even\n",
        "function used: modulator (%)\n",
        "  divides the number by 2 and if the remainder is 0, then the number is even\n",
        "\n",
        "prints False: if the number is odd\n",
        "function used: modulator (%)\n",
        "  divides the number by 2 and if the remainder is NOT 0, then the number is odd\n",
        "  \"\"\"\n",
        "  if num % 2 == 0:\n",
        "    print('True')\n",
        "  else:\n",
        "    print('False')\n",
        "\n",
        "num = 21\n",
        "is_even(num)\n",
        "\n",
        "num = 14\n",
        "is_even(num)"
      ],
      "metadata": {
        "colab": {
          "base_uri": "https://localhost:8080/"
        },
        "id": "Zg0AwIuGDXIO",
        "outputId": "dfc59251-bfc6-41cb-9fa7-8327e5fb3eac"
      },
      "execution_count": null,
      "outputs": [
        {
          "output_type": "stream",
          "name": "stdout",
          "text": [
            "False\n",
            "True\n"
          ]
        }
      ]
    },
    {
      "cell_type": "markdown",
      "source": [
        "###Activity 4"
      ],
      "metadata": {
        "id": "soIcVYQ5Gwqo"
      }
    },
    {
      "cell_type": "code",
      "source": [
        "def add_two_num(num1, num2):\n",
        "  \"\"\"\n",
        "Tells the user what the sum of two given numebrs is\n",
        "\n",
        "parameters\n",
        "---\n",
        "num1 : float\n",
        "  the first number\n",
        "\n",
        "num2 : float\n",
        "  the second number\n",
        "\n",
        "Returns\n",
        "---\n",
        "float\n",
        "  the sum of the num1 and num2\n",
        "  \"\"\"\n",
        "  return num1+num2\n",
        "\n",
        "num1 = float(input(\"Enter first number:\"))\n",
        "num2 = float(input(\"Enter second number:\"))\n"
      ],
      "metadata": {
        "colab": {
          "base_uri": "https://localhost:8080/"
        },
        "id": "Wx9Sl-JhGzKS",
        "outputId": "25c59f7a-44b0-4c0e-f871-196c507013a3"
      },
      "execution_count": null,
      "outputs": [
        {
          "name": "stdout",
          "output_type": "stream",
          "text": [
            "Enter first number:1\n",
            "Enter second number:2\n"
          ]
        }
      ]
    },
    {
      "cell_type": "markdown",
      "source": [
        "###Activity 5"
      ],
      "metadata": {
        "id": "sTmG-rJuGzUa"
      }
    },
    {
      "cell_type": "code",
      "source": [
        "def y(t,v_0, g):\n",
        "  \"\"\"\n",
        "gives the value y from the given values\n",
        "\n",
        "Parameters\n",
        "---\n",
        "t : float\n",
        "  variable time\n",
        "v_0 : float\n",
        "  variable for second input\n",
        "g : float\n",
        "  variable for third input\n",
        "\n",
        "Returns\n",
        "---\n",
        "float\n",
        "  uses the variable y to input the given parameters in order to get y\n",
        "  \"\"\"\n",
        "  y = v_0*t - (1/2)*g*t**2\n",
        "  return y\n",
        "\n",
        "t = float(input(\"Value of t:\"))\n",
        "v_0= float(input(\"Value of v_0:\"))\n",
        "g = float(input(\"Value of g:\"))\n",
        "\n",
        "#print(y(t,v_0,g))\n",
        "\n"
      ],
      "metadata": {
        "id": "01emgWZfGzh3"
      },
      "execution_count": null,
      "outputs": []
    },
    {
      "cell_type": "code",
      "source": [
        "def straight_line(x_0,y_0,x_1,y_1):\n",
        "  \"\"\"\n",
        "gives the coefficients of the straight line formula y = mx+b given the coordinates of two points\n",
        "\n",
        "Parameters\n",
        "---\n",
        "x_0 = float\n",
        "  x coordinate of the first point\n",
        "y_0 = float\n",
        "  y coordinate of the first point\n",
        "x_1 = float\n",
        "  x coordinate of the second point\n",
        "y_1 = float\n",
        "  y coordinate of the second point\n",
        "  \"\"\"\n",
        "  a = (y_1 - y_0)/(x_1 - x_0)\n",
        "  b = y_0 - a*x_0\n",
        "  return a, b\n"
      ],
      "metadata": {
        "id": "gFdrPS4AI9rc"
      },
      "execution_count": null,
      "outputs": []
    },
    {
      "cell_type": "code",
      "source": [
        "import math\n",
        "\n",
        "def work_done(F, disp, angle):\n",
        "  \"\"\"\n",
        "Gives the user the work done based on 3 parameters\n",
        "Parameters\n",
        "---\n",
        "F = integer\n",
        "  the Force applied on object\n",
        "disp = float\n",
        "  the displacement of the object\n",
        "angle = float\n",
        "  the angle between the force and displacement vectors\n",
        "\n",
        "Returns\n",
        "---\n",
        "float\n",
        "  Work based on the formula\n",
        "  \"\"\"\n",
        "  W = F*disp*math.cos(angle)\n",
        "  return W\n",
        "\n",
        "F = int(input('Force applied:'))\n",
        "disp = float(input('Displacement:'))\n",
        "angle = float(input('angle between force and displacement vectors:'))\n",
        "\n",
        "print(work_done(F, disp, angle))"
      ],
      "metadata": {
        "id": "YuH5gZ8HZJi0"
      },
      "execution_count": null,
      "outputs": []
    }
  ]
}